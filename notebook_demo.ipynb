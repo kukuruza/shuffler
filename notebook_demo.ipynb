{
 "cells": [
  {
   "cell_type": "code",
   "execution_count": null,
   "metadata": {},
   "outputs": [],
   "source": [
    "from shuffler.interface.dataframe import Dataframe\n",
    "\n",
    "%matplotlib inline\n",
    "import matplotlib.pyplot as plt"
   ]
  },
  {
   "cell_type": "code",
   "execution_count": null,
   "metadata": {},
   "outputs": [],
   "source": [
    "df = Dataframe(in_db_path='shuffler/testdata/cars/micro1_v5.db', rootdir='shuffler/testdata/cars')"
   ]
  },
  {
   "cell_type": "code",
   "execution_count": null,
   "metadata": {
    "scrolled": true
   },
   "outputs": [],
   "source": [
    "entry = df[1]\n",
    "print (entry['image'].shape)\n",
    "plt.imshow(entry['image'])\n",
    "plt.show()"
   ]
  },
  {
   "cell_type": "code",
   "execution_count": null,
   "metadata": {},
   "outputs": [],
   "source": [
    "fig = plt.figure(figsize=(8, 10))\n",
    "df.displayImagesPlt(limit=4, with_objects=True, with_imagefile=True, ncols=2, shuffle=True)\n",
    "print (fig.get_size_inches()*fig.dpi)  # Print figure size."
   ]
  },
  {
   "cell_type": "code",
   "execution_count": null,
   "metadata": {},
   "outputs": [],
   "source": [
    "df.printInfo()\n",
    "df.plotScatter(sql=\"SELECT width, height FROM objects\", xlabel='width', ylabel='height')\n",
    "# Set some additional properties.\n",
    "plt.grid()\n",
    "plt.gca().set_title('Distribution of object sizes')\n",
    "plt.gca().set_aspect('equal', 'box')\n",
    "plt.gca().set(xlim=(0, 800), ylim=(0, 500))"
   ]
  },
  {
   "cell_type": "code",
   "execution_count": null,
   "metadata": {},
   "outputs": [],
   "source": [
    "df.close()"
   ]
  }
 ],
 "metadata": {
  "kernelspec": {
   "display_name": "shuffler",
   "language": "python",
   "name": "python3"
  },
  "language_info": {
   "codemirror_mode": {
    "name": "ipython",
    "version": 3
   },
   "file_extension": ".py",
   "mimetype": "text/x-python",
   "name": "python",
   "nbconvert_exporter": "python",
   "pygments_lexer": "ipython3",
   "version": "3.7.6"
  }
 },
 "nbformat": 4,
 "nbformat_minor": 4
}
